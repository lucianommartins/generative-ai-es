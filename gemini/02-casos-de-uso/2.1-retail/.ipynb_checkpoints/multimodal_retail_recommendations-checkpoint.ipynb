{
 "cells": [
  {
   "cell_type": "code",
   "execution_count": null,
   "metadata": {
    "id": "ijGzTHJJUCPY"
   },
   "outputs": [],
   "source": [
    "# Copyright 2023 Google LLC\n",
    "#\n",
    "# Licensed under the Apache License, Version 2.0 (the \"License\");\n",
    "# you may not use this file except in compliance with the License.\n",
    "# You may obtain a copy of the License at\n",
    "#\n",
    "#     https://www.apache.org/licenses/LICENSE-2.0\n",
    "#\n",
    "# Unless required by applicable law or agreed to in writing, software\n",
    "# distributed under the License is distributed on an \"AS IS\" BASIS,\n",
    "# WITHOUT WARRANTIES OR CONDITIONS OF ANY KIND, either express or implied.\n",
    "# See the License for the specific language governing permissions and\n",
    "# limitations under the License."
   ]
  },
  {
   "cell_type": "markdown",
   "metadata": {
    "id": "VEqbX8OhE8y9"
   },
   "source": [
    "# Uso de Gemini para recomendar productos según la evaluación de imágenes\n",
    "\n",
    "<table align=\"left\">\n",
    "  <td style=\"text-align: center\">\n",
    "    <a href=\"https://colab.research.google.com/github/GoogleCloudPlatform/generative-ai/blob/main/gemini/use-cases/retail/multimodal_retail_recommendations.ipynb\">\n",
    "      <img src=\"https://cloud.google.com/ml-engine/images/colab-logo-32px.png\" alt=\"Google Colaboratory logo\"><br> Ejecutar en Colab\n",
    "    </a>\n",
    "  </td>\n",
    "  <td style=\"text-align: center\">\n",
    "    <a href=\"https://github.com/GoogleCloudPlatform/generative-ai/blob/main/gemini/use-cases/retail/multimodal_retail_recommendations.ipynb\">\n",
    "      <img src=\"https://cloud.google.com/ml-engine/images/github-logo-32px.png\" alt=\"GitHub logo\"><br> Ver en GitHub\n",
    "    </a>\n",
    "  </td>\n",
    "  <td style=\"text-align: center\">\n",
    "    <a href=\"https://console.cloud.google.com/vertex-ai/workbench/deploy-notebook?download_url=https://raw.githubusercontent.com/GoogleCloudPlatform/generative-ai/blob/main/gemini/use-cases/retail/multimodal_retail_recommendations.ipynb\">\n",
    "      <img src=\"https://lh3.googleusercontent.com/UiNooY4LUgW_oTvpsNhPpQzsstV5W8F7rYgxgGBD85cWJoLmrOzhVs_ksK_vgx40SHs7jCqkTkCk=e14-rj-sc0xffffff-h130-w32\" alt=\"Vertex AI logo\"><br> Abrir en la Vertex AI Workbench\n",
    "    </a>\n",
    "  </td>\n",
    "</table>\n"
   ]
  },
  {
   "cell_type": "markdown",
   "metadata": {
    "id": "VK1Q5ZYdVL4Y"
   },
   "source": [
    "## Visión general\n",
    "\n",
    "Para las empresas minoristas, los sistemas de recomendación mejoran la experiencia del cliente y, por tanto, pueden incrementar las ventas.\n",
    "\n",
    "Este notebook muestra cómo puede utilizar las capacidades multimodales del modelo Gemini Pro Vision para crear rápidamente un sistema de recomendación multimodal listo para usar."
   ]
  },
  {
   "cell_type": "markdown",
   "metadata": {
    "id": "3zLxCZkKEAhC",
    "tags": []
   },
   "source": [
    "## Escenario\n",
    "\n",
    "El cliente muestra su salón:\n",
    "\n",
    "|Foto del cliente |\n",
    "|:-----:|\n",
    "|<img src=\"https://storage.googleapis.com/github-repo/img/gemini/retail-recommendations/rooms/spacejoy-c0JoR_-2x3E-unsplash.jpg\" width=\"80%\">  |\n",
    "\n",
    "\n",
    "\n",
    "A continuación se muestran cuatro opciones de sillas que el cliente intenta decidir al comprar:\n",
    "\n",
    "|Silla 1| Silla 2 | Silla 3 | silla 4 |\n",
    "|:-----:|:----:|:-----:|:----:|\n",
    "| <img src=\"https://storage.googleapis.com/github-repo/img/gemini/retail-recommendations/furnitures/cesar-couto-OB2F6CsMva8-unsplash.jpg\" width=\"80%\">|<img src=\"https://storage.googleapis.com/github-repo/img/gemini/retail-recommendations/furnitures/daniil-silantev-1P6AnKDw6S8-unsplash.jpg\" width=\"80%\">|<img src=\"https://storage.googleapis.com/github-repo/img/gemini/retail-recommendations/furnitures/ruslan-bardash-4kTbAMRAHtQ-unsplash.jpg\" width=\"80%\">|<img src=\"https://storage.googleapis.com/github-repo/img/gemini/retail-recommendations/furnitures/scopic-ltd-NLlWwR4d3qU-unsplash.jpg\" width=\"80%\">|\n",
    "\n",
    "\n",
    "Aquí tendrás un ejercicio de cómo utilizar `Gemini Pro Vision` para acelerar la solución de este tipo de escenarios."
   ]
  },
  {
   "cell_type": "markdown",
   "metadata": {
    "id": "RQT500QqVPIb"
   },
   "source": [
    "### Objetivos\n",
    "\n",
    "Su objetivo principal es aprender a crear un sistema de recomendación que pueda proporcionar recomendaciones y explicaciones utilizando un modelo multimodal: \"Gemini Pro Vision\".\n",
    "\n",
    "En este notebook, comenzará con una escena (por ejemplo, una sala de estar) y utilizará el modelo \"Gemini Pro Vision\" para realizar la comprensión visual. También investigará cómo se puede utilizar el modelo \"Gemini Pro Vision\" para recomendar un artículo (por ejemplo, una silla) de una lista de muebles como entrada.\n",
    "\n",
    "En este notebook aprenderás:\n",
    "- cómo utilizar el modelo \"Gemini Pro Vision\" para realizar comprensión visual\n",
    "- cómo tener en cuenta la multimodalidad al pedir el modelo \"Gemini Pro Vision\"\n",
    "- cómo se puede utilizar el modelo \"Gemini Pro Vision\" para crear aplicaciones de recomendación minorista listas para usar"
   ]
  },
  {
   "cell_type": "markdown",
   "metadata": {
    "id": "1y6_3dTwV2fI"
   },
   "source": [
    "### Costos\n",
    "\n",
    "Este tutorial utiliza los siguientes componentes de Google Cloud que pueden generar cargos en su factura:\n",
    "\n",
    "- Vertex AI\n",
    "\n",
    "Obtenga más información sobre [precios de Vertex AI](https://cloud.google.com/vertex-ai/pricing) y utilice la [calculadora de precios](https://cloud.google.com/products/calculator/) para generar una estimación de costos basada en el uso proyectado."
   ]
  },
  {
   "cell_type": "markdown",
   "metadata": {
    "id": "QDU0XJ1xRDlL"
   },
   "source": [
    "## Primeros pasos"
   ]
  },
  {
   "cell_type": "markdown",
   "metadata": {
    "id": "N5afkyDMSBW5"
   },
   "source": [
    "### Instalar el SDK de Vertex AI\n",
    "**Importante:** solo descomente la línea a continuación si **no** está ejecutando esta práctica de laboratorio en Qwiklabs"
   ]
  },
  {
   "cell_type": "code",
   "execution_count": null,
   "metadata": {
    "id": "V_-ThW_ZUYRV"
   },
   "outputs": [],
   "source": [
    "# ! pip3 install --upgrade --user google-cloud-aiplatform"
   ]
  },
  {
   "cell_type": "markdown",
   "metadata": {
    "id": "j7UyNVSiyQ96"
   },
   "source": [
    "### **Reinicie el kernel de su Jupyter notebook**\n",
    "\n",
    "Como la instalación se realiza con la opción `--user`, es necesario reiniciar el kernel para que los nuevos módulos sean accesibles.\n",
    "\n",
    "**Importante:** solo descomente la línea a continuación si **no** está ejecutando esta práctica de laboratorio en Qwiklabs"
   ]
  },
  {
   "cell_type": "code",
   "execution_count": null,
   "metadata": {
    "id": "YmY9HVVGSBW5",
    "tags": []
   },
   "outputs": [],
   "source": [
    "# import IPython\n",
    "\n",
    "# app = IPython.Application.instance()\n",
    "# app.kernel.do_shutdown(True)"
   ]
  },
  {
   "cell_type": "markdown",
   "metadata": {},
   "source": [
    "<div class=\"alert alert-block alert-warning\">\n",
    "<b>⚠️ Se está reiniciando el kernel del notebook. Espere a que se complete este proceso antes de continuar con los siguientes pasos. ⚠️</b>\n",
    "</div>"
   ]
  },
  {
   "cell_type": "markdown",
   "metadata": {
    "id": "6Fom0ZkMSBW6"
   },
   "source": [
    "### **Solo para uso en Colab: autentique tu notebook**\n",
    "\n",
    "En caso de que estés ejecutando este notebook en Google Colab, descomente esta celda para realizar la autenticación de tu sesión de notebook con Google Cloud. Este paso es importante **para utilizar no Colab** para garantizar que las API de Google Cloud funcionen Sem problemas."
   ]
  },
  {
   "cell_type": "code",
   "execution_count": null,
   "metadata": {
    "id": "LCaCx6PLSBW6",
    "tags": []
   },
   "outputs": [],
   "source": [
    "# import sys\n",
    "\n",
    "# # Additional authentication is required for Google Colab\n",
    "# if 'google.colab' in sys.modules:\n",
    "\n",
    "#     # Authenticate user to Google Cloud\n",
    "#     from google.colab import auth\n",
    "\n",
    "#     auth.authenticate_user()"
   ]
  },
  {
   "cell_type": "markdown",
   "metadata": {
    "id": "BuQwwRiniVFG"
   },
   "source": [
    "### **Solo para uso en Colab: define el proyecto Google Cloud para ser utilizado**\n",
    "\n",
    "Si estás ejecutando este notebook en Google Colab, descomente esta celda baja para definir qué proyecto Google Cloud se utilizará en Colab en la ejecución de este notebook."
   ]
  },
  {
   "cell_type": "code",
   "execution_count": null,
   "metadata": {
    "id": "rtMowvm-yQ97",
    "tags": []
   },
   "outputs": [],
   "source": [
    "# if 'google.colab' in sys.modules:\n",
    "\n",
    "#     # Define project information\n",
    "#     PROJECT_ID = \"[your-project-id]\" # @param {type:\"string\"}\n",
    "#     LOCATION = \"us-central1\" # @param {type:\"string\"}\n",
    "\n",
    "#     # Initialize Vertex AI\n",
    "#     import vertexai\n",
    "\n",
    "#     vertexai.init(project=PROJECT_ID, location=LOCATION)"
   ]
  },
  {
   "cell_type": "markdown",
   "metadata": {
    "id": "4437b7608c8e"
   },
   "source": [
    "### Importando las bibliotecas necesarias"
   ]
  },
  {
   "cell_type": "code",
   "execution_count": null,
   "metadata": {
    "id": "yZ75ioBU9EwM",
    "tags": []
   },
   "outputs": [],
   "source": [
    "import os\n",
    "os.environ['TF_CPP_MIN_LOG_LEVEL'] = '3' \n",
    "\n",
    "import warnings\n",
    "warnings.simplefilter(\"ignore\", UserWarning)\n",
    "\n",
    "from vertexai.generative_models import GenerativeModel, Image"
   ]
  },
  {
   "cell_type": "markdown",
   "metadata": {
    "id": "hhcZv4HFUYRW"
   },
   "source": [
    "## Importando el modelo `Gemini 1.0 Pro Vision`\n",
    "\n",
    "El modelo Gemini Pro Vision `gemini-1.0-pro-vision` es un modelo multimodal que admite agregar imágenes y videos al texto o mensajes de chat para una respuesta de texto."
   ]
  },
  {
   "cell_type": "code",
   "execution_count": null,
   "metadata": {
    "id": "pxlvLmncUYRW",
    "tags": []
   },
   "outputs": [],
   "source": [
    "multimodal_model = GenerativeModel(\"gemini-1.0-pro-vision\")"
   ]
  },
  {
   "cell_type": "markdown",
   "metadata": {
    "id": "sNxn74L2UNdU"
   },
   "source": [
    "### Definir algunas funciones auxiliares\n",
    "\n",
    "Defina funciones auxiliares para cargar y mostrar imágenes."
   ]
  },
  {
   "cell_type": "code",
   "execution_count": null,
   "metadata": {
    "id": "VEUnTOHz95vm",
    "tags": []
   },
   "outputs": [],
   "source": [
    "import http.client\n",
    "import io\n",
    "import typing\n",
    "import urllib.request\n",
    "\n",
    "import IPython.display\n",
    "from PIL import Image as PIL_Image\n",
    "from PIL import ImageOps as PIL_ImageOps\n",
    "\n",
    "def display_image(image: Image,\n",
    "                  max_width: int = 600,\n",
    "                  max_height: int = 350) -> None:\n",
    "    pil_image = typing.cast(PIL_Image.Image, image._pil_image)\n",
    "    if pil_image.mode != \"RGB\":\n",
    "        # Modes such as RGBA are not yet supported by all Jupyter environments\n",
    "        pil_image = pil_image.convert(\"RGB\")\n",
    "    image_width, image_height = pil_image.size\n",
    "    if max_width < image_width or max_height < image_height:\n",
    "        # Resize to display a smaller notebook image\n",
    "        pil_image = PIL_ImageOps.contain(pil_image, (max_width, max_height))\n",
    "    display_image_compressed(pil_image)\n",
    "\n",
    "\n",
    "def display_image_compressed(pil_image: PIL_Image.Image) -> None:\n",
    "    image_io = io.BytesIO()\n",
    "    pil_image.save(image_io, \"jpeg\", quality=80, optimize=True)\n",
    "    image_bytes = image_io.getvalue()\n",
    "    ipython_image = IPython.display.Image(image_bytes)\n",
    "    IPython.display.display(ipython_image)\n",
    "\n",
    "\n",
    "def get_image_bytes_from_url(image_url: str) -> bytes:\n",
    "    with urllib.request.urlopen(image_url) as response:\n",
    "        response = typing.cast(http.client.HTTPResponse, response)\n",
    "        if response.headers[\"Content-Type\"] not in (\"image/png\", \"image/jpeg\"):\n",
    "            raise Exception(\"Image can only be in PNG or JPEG format\")\n",
    "        image_bytes = response.read()\n",
    "    return image_bytes\n",
    "\n",
    "\n",
    "def load_image_from_url(image_url: str) -> Image:\n",
    "    image_bytes = get_image_bytes_from_url(image_url)\n",
    "    return Image.from_bytes(image_bytes)\n",
    "\n",
    "\n",
    "def print_multimodal_prompt(contents: list):\n",
    "    \"\"\"\n",
    "    Given contents that would be sent to Gemini,\n",
    "    output the full multimodal prompt for ease of readability.\n",
    "    \"\"\"\n",
    "    for content in contents:\n",
    "        if isinstance(content, Image):\n",
    "            display_image(content)\n",
    "        else:\n",
    "            print(content)"
   ]
  },
  {
   "cell_type": "markdown",
   "metadata": {
    "id": "MONqa2K8IjSz"
   },
   "source": [
    "### Comprensión visual con `Gemini 1.0 Pro Vision`\n",
    "\n",
    "Aquí le pedirás al modelo Gemini Pro Vision que describa detalladamente una habitación a partir de su imagen. Para hacer esto, necesita **combinar texto e imagen en un solo mensaje**."
   ]
  },
  {
   "cell_type": "code",
   "execution_count": null,
   "metadata": {
    "id": "26wP-epVFBBK",
    "tags": []
   },
   "outputs": [],
   "source": [
    "# urls for room images\n",
    "room_image_url = \"https://storage.googleapis.com/github-repo/img/gemini/retail-recommendations/rooms/spacejoy-c0JoR_-2x3E-unsplash.jpg\"\n",
    "\n",
    "# load room images as Image Objects\n",
    "room_image = load_image_from_url(room_image_url)\n",
    "\n",
    "prompt = \"Describe lo que se ve en esta sala y su atmósfera general:\"\n",
    "contents = [\n",
    "    prompt,\n",
    "    room_image,\n",
    "]\n",
    "\n",
    "responses = multimodal_model.generate_content(contents, stream=True)\n",
    "\n",
    "print(\"-------Prompt--------\")\n",
    "print_multimodal_prompt(contents)\n",
    "\n",
    "print(\"\\n-------Respuesta--------\")\n",
    "for response in responses:\n",
    "    print(response.text, end=\"\")"
   ]
  },
  {
   "cell_type": "markdown",
   "metadata": {
    "id": "64I8-GxSbkTv"
   },
   "source": [
    "### Generando recomendaciones abiertas basadas en conocimiento integrado\n",
    "\n",
    "Usando la misma imagen, puedes pedirle al modelo que te recomiende **un mueble** que le quede bien junto con una descripción de la habitación.\n",
    "\n",
    "Tenga en cuenta que el modelo puede elegir **cualquier mueble** recomendado en este caso, y puede hacerlo desde su único conocimiento integrado."
   ]
  },
  {
   "cell_type": "code",
   "execution_count": null,
   "metadata": {
    "id": "UaRDl1WvypT8",
    "tags": []
   },
   "outputs": [],
   "source": [
    "prompt1 = \"Recomendar muebles nuevos para esta habitación:\"\n",
    "prompt2 = \"y explica el motivo en detalle\"\n",
    "contents = [\n",
    "    prompt1,\n",
    "    room_image,\n",
    "    prompt2\n",
    "]\n",
    "\n",
    "responses = multimodal_model.generate_content(contents, stream=True)\n",
    "\n",
    "print(\"-------Prompt--------\")\n",
    "print_multimodal_prompt(contents)\n",
    "\n",
    "print(\"\\n-------Respuesta--------\")\n",
    "for response in responses:\n",
    "    print(response.text, end=\"\")"
   ]
  },
  {
   "cell_type": "markdown",
   "metadata": {
    "id": "lzdaG4iIdZM8"
   },
   "source": [
    "En la siguiente celda, le pedirá al modelo que le recomiende **un tipo de silla** que le quede bien junto con una descripción de la habitación.\n",
    "\n",
    "Tenga en cuenta que el modelo puede elegir **cualquier tipo de silla** a recomendar en este caso."
   ]
  },
  {
   "cell_type": "code",
   "execution_count": null,
   "metadata": {
    "id": "h7xKDMFLyQuD",
    "tags": []
   },
   "outputs": [],
   "source": [
    "prompt1 = \"Describe esta habitación:\"\n",
    "prompt2 = \"y recomendarle un tipo de silla que se adapte a ella\"\n",
    "\n",
    "contents = [\n",
    "    prompt1,\n",
    "    room_image,\n",
    "    prompt2\n",
    "]\n",
    "\n",
    "responses = multimodal_model.generate_content(contents, stream=True)\n",
    "\n",
    "print(\"-------Prompt--------\")\n",
    "print_multimodal_prompt(contents)\n",
    "\n",
    "print(\"\\n-------Respuesta--------\")\n",
    "for response in responses:\n",
    "    print(response.text, end=\"\")"
   ]
  },
  {
   "cell_type": "markdown",
   "metadata": {
    "id": "idEB0JFcbznD"
   },
   "source": [
    "### Generando recomendaciones basadas en imágenes proporcionadas\n",
    "\n",
    "En lugar de mantener la recomendación abierta, también puede proporcionar una lista de elementos para que el modelo elija.\n",
    "\n",
    "Aquí descargará algunas imágenes de sillas y las configurará como opciones para que las recomiende el modelo Gemini. Esto es particularmente útil para empresas minoristas que desean brindar recomendaciones a los usuarios según el tipo de habitación que tienen y los artículos disponibles que ofrece la tienda."
   ]
  },
  {
   "cell_type": "code",
   "execution_count": null,
   "metadata": {
    "id": "f_jMmwRiFcPF",
    "tags": []
   },
   "outputs": [],
   "source": [
    "# Download and display sample chairs\n",
    "furniture_image_urls = [\n",
    "    \"https://storage.googleapis.com/github-repo/img/gemini/retail-recommendations/furnitures/cesar-couto-OB2F6CsMva8-unsplash.jpg\",\n",
    "    \"https://storage.googleapis.com/github-repo/img/gemini/retail-recommendations/furnitures/daniil-silantev-1P6AnKDw6S8-unsplash.jpg\",\n",
    "    \"https://storage.googleapis.com/github-repo/img/gemini/retail-recommendations/furnitures/ruslan-bardash-4kTbAMRAHtQ-unsplash.jpg\",\n",
    "    \"https://storage.googleapis.com/github-repo/img/gemini/retail-recommendations/furnitures/scopic-ltd-NLlWwR4d3qU-unsplash.jpg\",\n",
    "]\n",
    "\n",
    "# Load furniture images as Image Objects\n",
    "furniture_images = [load_image_from_url(url) for url in furniture_image_urls]\n",
    "\n",
    "# To recommend an item from a selection, you will need to label the item number within the prompt.\n",
    "# That way you are providing the model with a way to reference each image as you pose a question.\n",
    "# Labelling images within your prompt also help to reduce hallucinations and overall produce better results.\n",
    "contents = [\n",
    "\"Considere las siguientes sillas:\",\n",
    "     \"silla 1:\", furniture_images[0],\n",
    "     \"silla 2:\", furniture_images[1],\n",
    "     \"silla 3:\", furniture_images[2],\n",
    "     \"silla 4:\", furniture_images[3],\n",
    "     \"sala de estar:\",\n",
    "     room_image,\n",
    "     \"Eres diseñador de interiores. Para cada silla, explica si sería apropiada o no para el estilo de la habitación. Resume las dos mejores opciones de sillas:\",\n",
    "]\n",
    "\n",
    "responses = multimodal_model.generate_content(contents, stream=True)\n",
    "\n",
    "print(\"-------Prompt--------\")\n",
    "print_multimodal_prompt(contents)\n",
    "\n",
    "print(\"\\n-------Respuesta--------\")\n",
    "for response in responses:\n",
    "    print(response.text, end=\"\")"
   ]
  },
  {
   "cell_type": "markdown",
   "metadata": {
    "id": "Mkw-DixOUYRc"
   },
   "source": [
    "También puedes solicitar la respuesta en un formato específico, como JSON, por ejemplo, para simplificar la integración del modelo de respuesta con cualquier sistema de recomendación existente en tu entorno:"
   ]
  },
  {
   "cell_type": "code",
   "execution_count": null,
   "metadata": {
    "id": "MDBQufRYUYRc",
    "tags": []
   },
   "outputs": [],
   "source": [
    "contents = [\n",
    "     \"Considere las siguientes sillas:\",\n",
    "     \"silla 1:\", furniture_images[0],\n",
    "     \"silla 2:\", furniture_images[1],\n",
    "     \"silla 3:\", furniture_images[2],\n",
    "     \"silla 4:\", furniture_images[3],\n",
    "     \"sala de estar:\", room_image,\n",
    "     \"Eres diseñador de interiores. Devuelve en JSON, para cada silla, si sería o no una buena elección para esta sala, incluyendo una explicación de la decisión:\",\n",
    "]\n",
    "\n",
    "responses = multimodal_model.generate_content(contents, stream=True)\n",
    "\n",
    "print(\"-------Prompt--------\")\n",
    "print_multimodal_prompt(contents)\n",
    "\n",
    "print(\"\\n-------Respuesta--------\")\n",
    "for response in responses:\n",
    "    print(response.text, end=\"\")"
   ]
  },
  {
   "cell_type": "markdown",
   "metadata": {
    "id": "0_uhGdZERToX"
   },
   "source": [
    "## Conclusión\n",
    "\n",
    "Este notebook mostró cómo se puede crear fácilmente un sistema de recomendación multimodal utilizando Gemini para dispositivos móviles, pero también se puede utilizar un enfoque similar en:\n",
    "\n",
    "- recomendar conjuntos basados en una ocasión o imagen de ubicación\n",
    "- recomendación de fondo de pantalla según la habitación y la configuración\n",
    "\n",
    "Es posible que también desee explorar cómo puede crear un sistema RAG, donde recupera imágenes relevantes del inventario de su tienda para los usuarios que pueden usar Gemini para ayudar a identificar la opción más ideal entre las diversas opciones proporcionadas y también explicar la lógica a los usuarios. usuarios."
   ]
  },
  {
   "cell_type": "code",
   "execution_count": null,
   "metadata": {},
   "outputs": [],
   "source": []
  }
 ],
 "metadata": {
  "colab": {
   "provenance": [],
   "toc_visible": true
  },
  "environment": {
   "kernel": "python3",
   "name": "tf2-cpu.2-11.m117",
   "type": "gcloud",
   "uri": "us-docker.pkg.dev/deeplearning-platform-release/gcr.io/tf2-cpu.2-11:m117"
  },
  "kernelspec": {
   "display_name": "Python 3",
   "language": "python",
   "name": "python3"
  },
  "language_info": {
   "codemirror_mode": {
    "name": "ipython",
    "version": 3
   },
   "file_extension": ".py",
   "mimetype": "text/x-python",
   "name": "python",
   "nbconvert_exporter": "python",
   "pygments_lexer": "ipython3",
   "version": "3.10.13"
  }
 },
 "nbformat": 4,
 "nbformat_minor": 4
}
